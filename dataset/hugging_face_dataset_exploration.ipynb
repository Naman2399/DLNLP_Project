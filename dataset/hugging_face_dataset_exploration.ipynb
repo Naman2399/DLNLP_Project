{
 "cells": [
  {
   "cell_type": "code",
   "execution_count": 24,
   "id": "5689f895-d7e6-4522-a8a3-f3600c2fc9ef",
   "metadata": {},
   "outputs": [
    {
     "name": "stderr",
     "output_type": "stream",
     "text": [
      "[nltk_data] Downloading package stopwords to\n",
      "[nltk_data]     /raid/home/namanmalpani/nltk_data...\n",
      "[nltk_data]   Package stopwords is already up-to-date!\n",
      "2024-11-18 19:58:40.119617: E external/local_xla/xla/stream_executor/cuda/cuda_fft.cc:485] Unable to register cuFFT factory: Attempting to register factory for plugin cuFFT when one has already been registered\n",
      "2024-11-18 19:58:40.139016: E external/local_xla/xla/stream_executor/cuda/cuda_dnn.cc:8454] Unable to register cuDNN factory: Attempting to register factory for plugin cuDNN when one has already been registered\n",
      "2024-11-18 19:58:40.144798: E external/local_xla/xla/stream_executor/cuda/cuda_blas.cc:1452] Unable to register cuBLAS factory: Attempting to register factory for plugin cuBLAS when one has already been registered\n",
      "2024-11-18 19:58:40.163564: I tensorflow/core/platform/cpu_feature_guard.cc:210] This TensorFlow binary is optimized to use available CPU instructions in performance-critical operations.\n",
      "To enable the following instructions: AVX2 FMA, in other operations, rebuild TensorFlow with the appropriate compiler flags.\n",
      "2024-11-18 19:58:41.155614: W tensorflow/compiler/tf2tensorrt/utils/py_utils.cc:38] TF-TRT Warning: Could not find TensorRT\n"
     ]
    }
   ],
   "source": [
    "from datasets import load_dataset\n",
    "import pandas as pd\n",
    "\n",
    "import torch\n",
    "from torch.utils.data import Dataset, DataLoader\n",
    "from transformers import AutoTokenizer\n",
    "from datasets import load_dataset\n",
    "\n",
    "import re\n",
    "import os\n",
    "import numpy as np\n",
    "import pandas as pd\n",
    "import matplotlib.pyplot as plt\n",
    "\n",
    "import nltk\n",
    "nltk.download('stopwords')\n",
    "from nltk.corpus import stopwords\n",
    "import contractions\n",
    "from tensorflow.keras.preprocessing.text import Tokenizer\n",
    "from tensorflow.keras.preprocessing.sequence import pad_sequences\n",
    "\n",
    "\n",
    "import tensorflow as tf\n",
    "from tensorflow.keras.layers import Input, LSTM, Embedding, Dense, Concatenate, TimeDistributed, Bidirectional\n",
    "from tensorflow.keras.models import Model\n",
    "from tensorflow.keras.callbacks import EarlyStopping\n",
    "from keras import backend as K \n",
    "from tensorflow.python.keras.layers import Layer"
   ]
  },
  {
   "cell_type": "code",
   "execution_count": 19,
   "id": "a84b8a11-2f62-4886-b09e-fdb974fee616",
   "metadata": {},
   "outputs": [
    {
     "name": "stdout",
     "output_type": "stream",
     "text": [
      "DatasetDict({\n",
      "    train: Dataset({\n",
      "        features: ['text', 'summary', 'chữ', 'bản tóm tắt'],\n",
      "        num_rows: 6570\n",
      "    })\n",
      "})\n",
      "Number of text entries: 6570\n",
      "Number of summary entries: 6570\n"
     ]
    }
   ],
   "source": [
    "# Load the dataset\n",
    "dataset = load_dataset('QuyenAnhDE/data-for-text-summarization')\n",
    "\n",
    "print(dataset)\n",
    "\n",
    "# Extract text and summary from the training split\n",
    "texts = dataset['train']['text']\n",
    "summaries = dataset['train']['summary']\n",
    "\n",
    "# Check the lengths of text and summary\n",
    "print(f\"Number of text entries: {len(texts)}\")\n",
    "print(f\"Number of summary entries: {len(summaries)}\")\n",
    "\n",
    "# Create a DataFrame\n",
    "data_df = pd.DataFrame({\n",
    "    'text': texts,\n",
    "    'summary': summaries\n",
    "})\n"
   ]
  },
  {
   "cell_type": "code",
   "execution_count": 20,
   "id": "90d12d9f-bb9a-408d-b42e-e4ef3716a780",
   "metadata": {},
   "outputs": [
    {
     "data": {
      "text/html": [
       "<div>\n",
       "<style scoped>\n",
       "    .dataframe tbody tr th:only-of-type {\n",
       "        vertical-align: middle;\n",
       "    }\n",
       "\n",
       "    .dataframe tbody tr th {\n",
       "        vertical-align: top;\n",
       "    }\n",
       "\n",
       "    .dataframe thead th {\n",
       "        text-align: right;\n",
       "    }\n",
       "</style>\n",
       "<table border=\"1\" class=\"dataframe\">\n",
       "  <thead>\n",
       "    <tr style=\"text-align: right;\">\n",
       "      <th></th>\n",
       "      <th>text</th>\n",
       "      <th>summary</th>\n",
       "    </tr>\n",
       "  </thead>\n",
       "  <tbody>\n",
       "    <tr>\n",
       "      <th>0</th>\n",
       "      <td>TOKYO, Jan 6 (Reuters) - ** Japan's rubber fut...</td>\n",
       "      <td>Japan's rubber futures slid on Thursday, rever...</td>\n",
       "    </tr>\n",
       "    <tr>\n",
       "      <th>1</th>\n",
       "      <td>WASHINGTON, Jan 5 (Reuters) - Federal Reserve ...</td>\n",
       "      <td>Federal Reserve officials said last month that...</td>\n",
       "    </tr>\n",
       "    <tr>\n",
       "      <th>2</th>\n",
       "      <td>Jan 24 (Reuters) - Gold was little changed on ...</td>\n",
       "      <td>\\n\\n* Gold is generally seen as an inflationar...</td>\n",
       "    </tr>\n",
       "    <tr>\n",
       "      <th>3</th>\n",
       "      <td>JOHANNESBURG, Jan 5 (Reuters) - South Africa's...</td>\n",
       "      <td>South Africa's rand weakened in early trade on...</td>\n",
       "    </tr>\n",
       "    <tr>\n",
       "      <th>4</th>\n",
       "      <td>TOKYO, Jan 21 (Reuters) - Japanese shares fell...</td>\n",
       "      <td>Japanese shares fell on Friday, with technolog...</td>\n",
       "    </tr>\n",
       "  </tbody>\n",
       "</table>\n",
       "</div>"
      ],
      "text/plain": [
       "                                                text  \\\n",
       "0  TOKYO, Jan 6 (Reuters) - ** Japan's rubber fut...   \n",
       "1  WASHINGTON, Jan 5 (Reuters) - Federal Reserve ...   \n",
       "2  Jan 24 (Reuters) - Gold was little changed on ...   \n",
       "3  JOHANNESBURG, Jan 5 (Reuters) - South Africa's...   \n",
       "4  TOKYO, Jan 21 (Reuters) - Japanese shares fell...   \n",
       "\n",
       "                                             summary  \n",
       "0  Japan's rubber futures slid on Thursday, rever...  \n",
       "1  Federal Reserve officials said last month that...  \n",
       "2  \\n\\n* Gold is generally seen as an inflationar...  \n",
       "3  South Africa's rand weakened in early trade on...  \n",
       "4  Japanese shares fell on Friday, with technolog...  "
      ]
     },
     "execution_count": 20,
     "metadata": {},
     "output_type": "execute_result"
    }
   ],
   "source": [
    "# Display the first few rows of the DataFrame\n",
    "data_df.head()"
   ]
  },
  {
   "cell_type": "code",
   "execution_count": 26,
   "id": "808df844-ae8a-453a-8f1a-ecacc4c4d4b3",
   "metadata": {},
   "outputs": [],
   "source": [
    "#Removing Duplicates\n",
    "data_df.drop_duplicates(subset=['text'],inplace=True)\n",
    "\n",
    "# Remove rows where either 'text' or 'summary' is None\n",
    "data_df = data_df.dropna(subset=['text', 'summary'])\n",
    "\n",
    "#Resetting the Index\n",
    "data_df.reset_index(inplace=True, drop=True)"
   ]
  },
  {
   "cell_type": "markdown",
   "id": "e0911662-35c4-4260-9d04-e0c2e02d59bd",
   "metadata": {},
   "source": [
    "# Data Preprocessing"
   ]
  },
  {
   "cell_type": "code",
   "execution_count": 27,
   "id": "ab215064-9a51-4b6d-ab3a-eaf5e83e0180",
   "metadata": {},
   "outputs": [
    {
     "name": "stdout",
     "output_type": "stream",
     "text": [
      "Summary:\n",
      "_START_ japan rubber futures slid thursday reversing previous day gain anticipation faster policy tightening yous federal reserve dented risk appetite worries surge covid 19 cases weighed sentiment very tight job market unabated inflation might require federal reserve raise interest rates sooner expected begin reducing overall asset holdings second brake economy yous central bank policymakers said meeting last month growing concerns rapid spread omicron coronavirus variant also hurt market sentiment front month rubber contract singapore sicom exchange february delivery last traded 1752 yous cents per kg 03  _END_\n",
      "Text:\n",
      "tokyo jan 6 per tonne thursday very tight job market unabated inflation might require federal reserve raise interest rates sooner expected begin reducing overall asset holdings second brake economy yous central bank policymakers said meeting last month read growing concerns rapid spread omicron coronavirus variant also hurt market sentiment read front month rubber contract singapore sicom exchange february delivery last traded 1752 yous cents per kg 03 \n",
      "\n",
      "Summary:\n",
      "_START_ federal reserve officials said last month yous labor market very tight might need yous central bank raise interest rates sooner expected also reduce overall asset holdings tame high inflation according minutes december 14 15 policy meeting minutes showed fed debating initial rate increase also whether use second lever curb inflation allowing holdings yous treasury bonds mortgage backed securities decline december meeting held coronavirus case counts begun climb due spread omicron variant infections exploded since then commentary senior fed officials yet indicate whether changing health situation altered views appropriate monetary policy _END_\n",
      "Text:\n",
      "washington jan 5 federal reserve officials said last month yous labor market very tight might need yous central bank raise interest rates sooner expected also reduce overall asset holdings tame high inflation according minutes december 14 15 policy meeting participants generally noted may become warranted increase federal funds rate sooner faster pace participants earlier anticipated participants also noted could appropriate begin reduce size federal reserve s balance sheet relatively soon beginning raise federal funds rate minutes stated minutes released wednesday offered details fed shift last month towards hawkish monetary policy policymakers agreed hasten end pandemic era program bond purchases issued forecasts anticipating three quarter percentage point rate increases 2022 minutes showed fed debating initial rate increase also whether use second lever curb inflation allowing holdings yous treasury bonds mortgage backed securities decline december meeting held coronavirus case counts begun climb due spread omicron variant infections exploded since then commentary senior fed officials yet indicate whether changing health situation altered views appropriate monetary policy fed chair jerome powell appear senate banking committee next week hearing nomination second four year term head central bank likely update views economy time\n",
      "\n"
     ]
    }
   ],
   "source": [
    "#Loading Stop Words\n",
    "stop_words = stopwords.words('english')\n",
    "\n",
    "#Defining the preprocess Function\n",
    "def preprocess(text):\n",
    "    \n",
    "    #Converting Text to Lowercase\n",
    "    text = text.lower()\n",
    "    \n",
    "    #Expanding Contractions\n",
    "    text = ' '.join([contractions.fix(word) for word in text.split(\" \")])    \n",
    "    \n",
    "    #Removing Stop Words\n",
    "    tokens = [w for w in text.split() if not w in stop_words]\n",
    "    \n",
    "    #Additional Text Cleaning\n",
    "    text = \" \".join(tokens)\n",
    "    text = text.replace(\"'s\",'')\n",
    "    text = text.replace(\".\",'')\n",
    "    text = re.sub(r'\\(.*\\)','',text)\n",
    "    text = re.sub(r'[^a-zA-Z0-9. ]',' ',text)\n",
    "    text = re.sub(r'\\.','. ',text)\n",
    "    text = re.sub(r'\\s+', ' ', text)\n",
    "    \n",
    "    #Returning the Cleaned Text\n",
    "    return text\n",
    "\n",
    "\n",
    "#Preprocessing the 'headlines' Column\n",
    "data_df['text'] = data_df['text'].apply(preprocess)\n",
    "\n",
    "#Preprocessing the 'text' Column\n",
    "data_df['summary'] = data_df['summary'].apply(preprocess)\n",
    "\n",
    "#Adding Start and End Tokens to 'headlines'\n",
    "data_df['summary'] = data_df['summary'].apply(lambda x : '_START_ '+ x + ' _END_')\n",
    "\n",
    "#Printing Processed Examples\n",
    "for i in range(2):\n",
    "    print('Summary:', data_df['summary'][i],'Text:', data_df['text'][i], sep='\\n')\n",
    "    print()"
   ]
  },
  {
   "cell_type": "code",
   "execution_count": 32,
   "id": "ef2897f4-bd79-44dd-9172-78ad666bf758",
   "metadata": {},
   "outputs": [
    {
     "name": "stdout",
     "output_type": "stream",
     "text": [
      "Text Length : 360\n",
      "Summary Length : 251\n"
     ]
    }
   ],
   "source": [
    "#Calculating the Lengths of 'headlines'\n",
    "text_length = [len(x.split()) for x in data_df.text]\n",
    "\n",
    "#Calculating the Lengths of 'text'\n",
    "summary_length = [len(x.split()) for x in data_df.summary]\n",
    "\n",
    "print(f\"Text Length : {max(text_length)}\")\n",
    "print(f\"Summary Length : {max(summary_length)}\" )\n"
   ]
  },
  {
   "cell_type": "code",
   "execution_count": 33,
   "id": "0bbe7082-624e-47dd-97a9-f491228b0cfa",
   "metadata": {},
   "outputs": [
    {
     "data": {
      "image/png": "[encoded data removed]",
      "text/plain": [
       "<Figure size 1000x500 with 2 Axes>"
      ]
     },
     "metadata": {},
     "output_type": "display_data"
    }
   ],
   "source": [
    "#Creating a Figure and Subplots\n",
    "fig, (ax1, ax2) = plt.subplots(1,2, figsize = (10,5))\n",
    "\n",
    "#Plotting Histograms\n",
    "ax1.hist(text_length, bins = 20)\n",
    "ax2.hist(summary_length, bins = 20)\n",
    "\n",
    "#Setting Titles for Subplots\n",
    "ax1.title.set_text(\"Words in Text\")\n",
    "ax2.title.set_text(\"Words in Summary\")\n",
    "\n",
    "#Displaying the Plot\n",
    "plt.show()"
   ]
  },
  {
   "cell_type": "code",
   "execution_count": 35,
   "id": "38c037d0-af3c-48b6-bf08-4b38a7ab0261",
   "metadata": {},
   "outputs": [],
   "source": [
    "from sklearn.model_selection import train_test_split\n",
    "\n",
    "#First Split: Train and Validation Sets\n",
    "X_train, X_val, y_train, y_val = train_test_split(data_df['text'], data_df['summary'], test_size = 0.2, random_state = 20)\n",
    "\n",
    "#Second Split: Validation and Test Sets\n",
    "X_test, X_val, y_test, y_val = train_test_split(X_val, y_val, test_size = 0.5, random_state = 20)"
   ]
  },
  {
   "cell_type": "code",
   "execution_count": 36,
   "id": "d61eaa37-112b-4185-a86a-827291b05ea6",
   "metadata": {},
   "outputs": [],
   "source": [
    "max_length_x = max(text_length)\n",
    "max_length_y = max(headlines_length)"
   ]
  },
  {
   "cell_type": "code",
   "execution_count": 38,
   "id": "ce497131-9f08-4ccf-8e60-f933a15fb1fc",
   "metadata": {},
   "outputs": [],
   "source": [
    "#Creating and Fitting the Tokenizer\n",
    "x_t = Tokenizer()\n",
    "x_t.fit_on_texts(data_df['text'] +  data_df['summary'])\n",
    "\n",
    "#Getting Vocabulary Size\n",
    "x_vocab_size = len(x_t.word_index) + 1\n",
    "\n",
    "#Encoding Texts into Sequences\n",
    "encoded_xtrain = x_t.texts_to_sequences(X_train)\n",
    "encoded_xval = x_t.texts_to_sequences(X_val)\n",
    "encoded_xtest = x_t.texts_to_sequences(X_test)\n",
    "\n",
    "#Padding Sequences\n",
    "padded_xtrain = pad_sequences(encoded_xtrain, maxlen=max_length_x, padding='post')\n",
    "padded_xval = pad_sequences(encoded_xval, maxlen=max_length_x, padding='post')\n",
    "padded_xtest = pad_sequences(encoded_xtest, maxlen=max_length_x, padding='post')\n"
   ]
  },
  {
   "cell_type": "code",
   "execution_count": 39,
   "id": "0d2a179a-b7b2-48a4-840d-faa905f3a265",
   "metadata": {},
   "outputs": [],
   "source": [
    "#Creating and Fitting the Tokenizer\n",
    "y_t = Tokenizer()\n",
    "y_t.fit_on_texts(data_df['summary'])\n",
    "\n",
    "#Getting Vocabulary Size\n",
    "y_vocab_size = len(y_t.word_index) + 1\n",
    "\n",
    "#Encoding Texts into Sequences\n",
    "encoded_ytrain = y_t.texts_to_sequences(y_train)\n",
    "encoded_yval = y_t.texts_to_sequences(y_val)\n",
    "encoded_ytest = y_t.texts_to_sequences(y_test)\n",
    "\n",
    "#Padding Sequences\n",
    "padded_ytrain = pad_sequences(encoded_ytrain, maxlen=max_length_y, padding='post')\n",
    "padded_yval = pad_sequences(encoded_yval, maxlen=max_length_y, padding='post')\n",
    "padded_ytest = pad_sequences(encoded_ytest, maxlen=max_length_y, padding='post')"
   ]
  },
  {
   "cell_type": "code",
   "execution_count": 40,
   "id": "5c71d503-e1e0-4ead-b7e5-20a333180710",
   "metadata": {},
   "outputs": [
    {
     "data": {
      "text/plain": [
       "(4440, 360)"
      ]
     },
     "execution_count": 40,
     "metadata": {},
     "output_type": "execute_result"
    }
   ],
   "source": [
    "padded_xtrain.shape"
   ]
  },
  {
   "cell_type": "code",
   "execution_count": null,
   "id": "5d55ba33-d5a4-472b-949a-3a0b1c31cec0",
   "metadata": {},
   "outputs": [],
   "source": []
  }
 ],
 "metadata": {
  "kernelspec": {
   "display_name": "Python 3 (ipykernel)",
   "language": "python",
   "name": "python3"
  },
  "language_info": {
   "codemirror_mode": {
    "name": "ipython",
    "version": 3
   },
   "file_extension": ".py",
   "mimetype": "text/x-python",
   "name": "python",
   "nbconvert_exporter": "python",
   "pygments_lexer": "ipython3",
   "version": "3.12.3"
  }
 },
 "nbformat": 4,
 "nbformat_minor": 5
}
